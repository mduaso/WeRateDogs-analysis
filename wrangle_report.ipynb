{
 "cells": [
  {
   "cell_type": "markdown",
   "metadata": {},
   "source": [
    "# Wrangle Report - WeRateDogs"
   ]
  },
  {
   "attachments": {},
   "cell_type": "markdown",
   "metadata": {},
   "source": [
    "In this project we gathered data from the WeRateDogs Twitter account. In particular, we dealt with 3 datasets:  \n",
    "\n",
    "* Twitter archive: contains roughly 2.5k tweets collected from the mentioned account, with 17 columns including some extracted attributes such as dog name or stage.  \n",
    "\n",
    "* Image predictions: stores about 2,000 entries of images predictions and it contains 12 columns.\n",
    "\n",
    "* Tweet details: gathered this data quering the Twitter API. Includes data about retweet count and favorite count for each tweet id. It consists of 2,331 rows."
   ]
  },
  {
   "attachments": {},
   "cell_type": "markdown",
   "metadata": {},
   "source": [
    "We explored these 3 datasets looking for potential data quality issues that would need to be assessed. We used pandas and numpy functions like *describe*, *info*, *head*, *sample*, *count*, *unique*, *sum*, etc.  \n",
    "Here are the most critical findings:"
   ]
  },
  {
   "cell_type": "markdown",
   "metadata": {},
   "source": [
    "### Data quality"
   ]
  },
  {
   "cell_type": "markdown",
   "metadata": {},
   "source": [
    "For the `twitter_archive` table, we encountered that:  \n",
    "- some rows were retweets and replies, and we did not want to use them for our analysis to prevent skewness.  \n",
    "- there were missing values *in_reply_to_status_id*, *in_reply_to_user_id*, *retweeted_status_id*, *retweeted_status_user_id*, *retweeted_status_timestamp* and *expanded_urls*.  \n",
    "- some *rating_numerator* and some *rating_denominator* had extreme values, which could affect our future analysis.\n",
    "- some wonky names for dogs, like *a* or *th*.  \n",
    "\n",
    "Regarding the `image_predictions` table, we identified that:  \n",
    "- some of the columns *p1*, *p1_conf*, etc., had nondescriptive names.  \n",
    "- there were inconsistencies on the breeds names, some were capitalized, some were not. Although some words must be capitalize in English, we decided that for analysis purposes this could be an issue.  \n",
    "\n",
    "About the `tweets_list` table, we spotted that:  \n",
    "- the variables *tweet_id*, *retweet_count* and *favorite_count* were object types not integers.  \n",
    "- there were at least 25 missing rows comparing to the `twitter_archive` table."
   ]
  },
  {
   "cell_type": "markdown",
   "metadata": {},
   "source": [
    "### Tidiness"
   ]
  },
  {
   "cell_type": "markdown",
   "metadata": {},
   "source": [
    "- In the `twitter_archive` table, the variable *stage* was store in 4 different columns, instead of one.\n",
    "- The `tweets_list` table should be part of the `twitter_archive` table. "
   ]
  },
  {
   "attachments": {},
   "cell_type": "markdown",
   "metadata": {},
   "source": [
    "After this exercise, we worked on solutions to clean the above issues. We created copies of the dataframes in order to not lose any data. This is a summary of the implemented solutions:"
   ]
  },
  {
   "cell_type": "markdown",
   "metadata": {},
   "source": [
    "1. From `twitter_archive` table, remove retweets when columns *retweeted_status_id*, *retweeted_status_user_id* and *retweeted_status_timestamp* are non empty. Remove replies when columns *in_reply_to_status_id* and *in_reply_to_user_id* are non empty.  \n",
    "    Then, drop columns *retweeted_status_id*, *retweeted_status_user_id*, *retweeted_status_timestamp*, *in_reply_to_status_id* and *in_reply_to_user_id*. \n",
    "2. From `twitter_archive` table, fill in values for expanded urls. The format should be: \"https://twitter.com/dog_rates/status/{tweet_id}/photo/1\".\n",
    "3. From `twitter_archive` table, compute numerator/denominator and add this to a new *rating* column. Because *WeRateDogs* rating method tends to give high ratings, we'll keep a ratio up to 2 to 1. The ones that have ratio higher than 2 they'll be designated with a rating of 2.  \n",
    "    Drop the columns *rating_numerator* and *rating_denominator*.  \n",
    "4. From `twitter_archive` table, transform all the names that start with a lowercase to *None*.  \n",
    "5. From `image_predictions` table, change `image_predictions` column headers to more insightful ones.  \n",
    "6. From `image_predictions` table, convert to lowercase breed names in columns *prediction_1*, *prediction_2* and *prediction_3* (although we know that some words must be capitalize in English, this is done for analysis purposes).  \n",
    "7. From `tweets_list` table, convert *tweet_id*, *retweet_count* and *favorite_count* to __integer__ in `tweets_list`.  \n",
    "8. From `tweets_list`, combine *doggo*, *floofer*, *pupper* and *puppo* columns into one column *stage*.  \n",
    "9. Left join `tweets_list` with `twitter_archive` on *twitter_id*.  \n",
    "10. From `tweets_list` table, drop the 7 rows that are missing values for *retweet_count* and *favorite_count*.  \n",
    "11. From `twitter_archive` table, convert *retweet_count* and *favorite_count* to __integer__ in `twitter_archive`. We have done this before but when we joined both tables there were missing values and the variable type changed to __float__."
   ]
  },
  {
   "cell_type": "markdown",
   "metadata": {},
   "source": [
    "Finally, we ended up with 2 clean files:  \n",
    "* `twitter_archive_master.csv`\n",
    "* `image_predictions_master.csv`"
   ]
  },
  {
   "attachments": {},
   "cell_type": "markdown",
   "metadata": {},
   "source": [
    "The reason to keep them separate was that they contain information about 2 different units or entities. The first file has attributes associated to specific tweets, while the second file is focused on images and their attributes.  \n",
    "\n",
    "We will use these 2 files to come up with insights and visualizations in the next step."
   ]
  }
 ],
 "metadata": {
  "kernelspec": {
   "display_name": "Python 3",
   "language": "python",
   "name": "python3"
  },
  "language_info": {
   "codemirror_mode": {
    "name": "ipython",
    "version": 3
   },
   "file_extension": ".py",
   "mimetype": "text/x-python",
   "name": "python",
   "nbconvert_exporter": "python",
   "pygments_lexer": "ipython3",
   "version": "3.7.6"
  }
 },
 "nbformat": 4,
 "nbformat_minor": 4
}
